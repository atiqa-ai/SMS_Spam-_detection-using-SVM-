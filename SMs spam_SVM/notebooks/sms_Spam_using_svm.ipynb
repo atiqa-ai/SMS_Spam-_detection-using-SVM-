{
 "cells": [
  {
   "cell_type": "markdown",
   "id": "9b89a771-4faf-4574-be3b-1148e7356ae6",
   "metadata": {},
   "source": [
    "### Importing libraries"
   ]
  },
  {
   "cell_type": "code",
   "execution_count": 15,
   "id": "1d834b6a-629a-4068-9e00-8283e68cdf5c",
   "metadata": {},
   "outputs": [],
   "source": [
    "import sklearn\n",
    "import pandas as pd\n",
    "import string\n",
    "import nltk\n",
    "from nltk.corpus import stopwords\n",
    "from nltk.stem import PorterStemmer"
   ]
  },
  {
   "cell_type": "markdown",
   "id": "1f888764-d312-41d6-bf09-53509bd2f3a8",
   "metadata": {},
   "source": [
    "### loading dataset"
   ]
  },
  {
   "cell_type": "code",
   "execution_count": 16,
   "id": "96784241-ae79-43e7-a099-788a0d766bf4",
   "metadata": {},
   "outputs": [],
   "source": [
    "path=(\"C:\\\\Users\\\\catiq\\\\OneDrive\\\\Documents\\\\Downloads\\\\spam.csv\")\n",
    "\n",
    "df=pd.read_csv(path,encoding=\"latin-1\")[['v1', 'v2']] #getting only first  2 columns\n",
    "\n",
    "df.columns=['label', 'message'] #renaming columns"
   ]
  },
  {
   "cell_type": "markdown",
   "id": "ccd5c13a-5c53-4227-9e65-c2b4652ef110",
   "metadata": {},
   "source": [
    "#### Exploring dataset"
   ]
  },
  {
   "cell_type": "code",
   "execution_count": 17,
   "id": "502b428d-9d71-4969-8dad-66a6800303d9",
   "metadata": {},
   "outputs": [
    {
     "data": {
      "text/html": [
       "<div>\n",
       "<style scoped>\n",
       "    .dataframe tbody tr th:only-of-type {\n",
       "        vertical-align: middle;\n",
       "    }\n",
       "\n",
       "    .dataframe tbody tr th {\n",
       "        vertical-align: top;\n",
       "    }\n",
       "\n",
       "    .dataframe thead th {\n",
       "        text-align: right;\n",
       "    }\n",
       "</style>\n",
       "<table border=\"1\" class=\"dataframe\">\n",
       "  <thead>\n",
       "    <tr style=\"text-align: right;\">\n",
       "      <th></th>\n",
       "      <th>label</th>\n",
       "      <th>message</th>\n",
       "    </tr>\n",
       "  </thead>\n",
       "  <tbody>\n",
       "    <tr>\n",
       "      <th>0</th>\n",
       "      <td>ham</td>\n",
       "      <td>Go until jurong point, crazy.. Available only ...</td>\n",
       "    </tr>\n",
       "    <tr>\n",
       "      <th>1</th>\n",
       "      <td>ham</td>\n",
       "      <td>Ok lar... Joking wif u oni...</td>\n",
       "    </tr>\n",
       "    <tr>\n",
       "      <th>2</th>\n",
       "      <td>spam</td>\n",
       "      <td>Free entry in 2 a wkly comp to win FA Cup fina...</td>\n",
       "    </tr>\n",
       "    <tr>\n",
       "      <th>3</th>\n",
       "      <td>ham</td>\n",
       "      <td>U dun say so early hor... U c already then say...</td>\n",
       "    </tr>\n",
       "    <tr>\n",
       "      <th>4</th>\n",
       "      <td>ham</td>\n",
       "      <td>Nah I don't think he goes to usf, he lives aro...</td>\n",
       "    </tr>\n",
       "  </tbody>\n",
       "</table>\n",
       "</div>"
      ],
      "text/plain": [
       "  label                                            message\n",
       "0   ham  Go until jurong point, crazy.. Available only ...\n",
       "1   ham                      Ok lar... Joking wif u oni...\n",
       "2  spam  Free entry in 2 a wkly comp to win FA Cup fina...\n",
       "3   ham  U dun say so early hor... U c already then say...\n",
       "4   ham  Nah I don't think he goes to usf, he lives aro..."
      ]
     },
     "execution_count": 17,
     "metadata": {},
     "output_type": "execute_result"
    }
   ],
   "source": [
    "df.head(5)"
   ]
  },
  {
   "cell_type": "code",
   "execution_count": 18,
   "id": "20ff2718-0a5c-4f32-acb7-8fb74e064476",
   "metadata": {},
   "outputs": [
    {
     "name": "stderr",
     "output_type": "stream",
     "text": [
      "[nltk_data] Downloading package stopwords to\n",
      "[nltk_data]     C:\\Users\\catiq\\AppData\\Roaming\\nltk_data...\n",
      "[nltk_data]   Package stopwords is already up-to-date!\n"
     ]
    },
    {
     "data": {
      "text/plain": [
       "True"
      ]
     },
     "execution_count": 18,
     "metadata": {},
     "output_type": "execute_result"
    }
   ],
   "source": [
    "# stopwords download (sirf first time run karna hoga)\n",
    "nltk.download('stopwords')"
   ]
  },
  {
   "cell_type": "markdown",
   "id": "872e2897-75bb-441a-a6fa-f020c430a172",
   "metadata": {},
   "source": [
    "### Text preprocessing"
   ]
  },
  {
   "cell_type": "code",
   "execution_count": 19,
   "id": "4cc80932-5813-4f68-bca0-0a64cf330125",
   "metadata": {},
   "outputs": [],
   "source": [
    "# stemmer object\n",
    "ps = PorterStemmer()"
   ]
  },
  {
   "cell_type": "code",
   "execution_count": 20,
   "id": "3ca166b5-b349-45e7-959a-2a4464d7c13d",
   "metadata": {},
   "outputs": [],
   "source": [
    "# preprocessing function\n",
    "def preprocess_text(text):\n",
    "    # 1. lowercase\n",
    "    text = text.lower()\n",
    "    \n",
    "    # 2. remove punctuation\n",
    "    text = text.translate(str.maketrans('', '', string.punctuation))\n",
    "    \n",
    "    # 3. tokenization\n",
    "    words = text.split()\n",
    "\n",
    " # 4. stopwords removal + stemming\n",
    "    words = [ps.stem(word) for word in words if word not in stopwords.words('english')]\n",
    "    \n",
    "    return \" \".join(words)\n"
   ]
  },
  {
   "cell_type": "code",
   "execution_count": 21,
   "id": "974fb96b-2d3e-456b-b130-a12aa327e8d6",
   "metadata": {},
   "outputs": [],
   "source": [
    "# apply preprocessing function on dataset\n",
    "df['clean_message'] = df['message'].apply(preprocess_text)\n"
   ]
  },
  {
   "cell_type": "code",
   "execution_count": 22,
   "id": "86a84187-cc20-4140-bdfd-2ee5ee26e747",
   "metadata": {},
   "outputs": [
    {
     "name": "stdout",
     "output_type": "stream",
     "text": [
      "  label                                            message  \\\n",
      "0   ham  Go until jurong point, crazy.. Available only ...   \n",
      "1   ham                      Ok lar... Joking wif u oni...   \n",
      "2  spam  Free entry in 2 a wkly comp to win FA Cup fina...   \n",
      "3   ham  U dun say so early hor... U c already then say...   \n",
      "4   ham  Nah I don't think he goes to usf, he lives aro...   \n",
      "\n",
      "                                       clean_message  \n",
      "0  go jurong point crazi avail bugi n great world...  \n",
      "1                              ok lar joke wif u oni  \n",
      "2  free entri 2 wkli comp win fa cup final tkt 21...  \n",
      "3                u dun say earli hor u c alreadi say  \n",
      "4          nah dont think goe usf live around though  \n"
     ]
    }
   ],
   "source": [
    "# check results\n",
    "print(df.head())"
   ]
  },
  {
   "cell_type": "markdown",
   "id": "a0edc743-94d2-4828-8309-92b73d1775ec",
   "metadata": {},
   "source": [
    "#### importing libraries"
   ]
  },
  {
   "cell_type": "code",
   "execution_count": 23,
   "id": "ce54ea51-da49-46f5-986e-1a548196984f",
   "metadata": {},
   "outputs": [],
   "source": [
    "from sklearn.feature_extraction.text import CountVectorizer, TfidfVectorizer\n",
    "from sklearn.model_selection import train_test_split\n",
    "from sklearn.svm import SVC"
   ]
  },
  {
   "cell_type": "markdown",
   "id": "76f37330-b677-42ea-8c13-9fa3b8e8446e",
   "metadata": {},
   "source": [
    "### applying Bag of words (BoW) technique"
   ]
  },
  {
   "cell_type": "code",
   "execution_count": 24,
   "id": "aaec428a-8991-4645-a939-76be83b99e83",
   "metadata": {},
   "outputs": [],
   "source": [
    "# Bag of Words\n",
    "cv = CountVectorizer(max_features=3000)   # top 3000 words only\n",
    "\n",
    "X_bow = cv.fit_transform(df['clean_message']).toarray() #converting words into numerical frequency\n"
   ]
  },
  {
   "cell_type": "code",
   "execution_count": 25,
   "id": "d46a3b22-8de3-448e-8274-97a032fcbb3e",
   "metadata": {},
   "outputs": [
    {
     "name": "stdout",
     "output_type": "stream",
     "text": [
      "Bag of Words Shape: (5572, 3000)\n"
     ]
    }
   ],
   "source": [
    "print(\"Bag of Words Shape:\", X_bow.shape)  #shape of data\n"
   ]
  },
  {
   "cell_type": "markdown",
   "id": "4ec7db98-efa5-461f-b22c-55d9d4cb43f6",
   "metadata": {},
   "source": [
    "### Splitting data into train and test"
   ]
  },
  {
   "cell_type": "code",
   "execution_count": 26,
   "id": "1bdb89bd-aa9d-4e6e-a453-65cbf2eafb88",
   "metadata": {},
   "outputs": [],
   "source": [
    "# 4. Split dataset\n",
    "X_train, X_test, y_train, y_test = train_test_split(\n",
    "   X_bow , df['label'], test_size=0.2, random_state=42)\n"
   ]
  },
  {
   "cell_type": "markdown",
   "id": "c30cf097-7499-4cfb-976b-40e6ad4f5039",
   "metadata": {},
   "source": [
    "### Training model"
   ]
  },
  {
   "cell_type": "code",
   "execution_count": 37,
   "id": "e4633eec-b22d-4d81-8a62-4a24a8a309d8",
   "metadata": {},
   "outputs": [
    {
     "name": "stdout",
     "output_type": "stream",
     "text": [
      "Best Params: {'C': 0.1, 'kernel': 'linear'}\n"
     ]
    }
   ],
   "source": [
    "# 6. Train SVM model\n",
    "#svm_model = SVC(kernel='linear', C=1,class_weight='balanced')  # linear kernel for text data\n",
    "#svm_model.fit(X_train, y_train)\n",
    "\n",
    "from sklearn.model_selection import GridSearchCV\n",
    "\n",
    "param_grid = {'C':[0.1,1,10], 'kernel':['linear','rbf']}\n",
    "grid = GridSearchCV(SVC(class_weight='balanced'), param_grid, cv=3, scoring='accuracy')\n",
    "grid.fit(X_train, y_train)\n",
    "print(\"Best Params:\", grid.best_params_)\n"
   ]
  },
  {
   "cell_type": "markdown",
   "id": "b5d9a270-1b3f-449d-bde7-f392c7e5ec44",
   "metadata": {},
   "source": [
    "### Making predictions"
   ]
  },
  {
   "cell_type": "code",
   "execution_count": 39,
   "id": "4e509a22-2679-4843-9e65-8a63ba1a1d8f",
   "metadata": {},
   "outputs": [
    {
     "data": {
      "text/plain": [
       "array(['ham', 'ham', 'spam', ..., 'ham', 'ham', 'spam'], dtype=object)"
      ]
     },
     "execution_count": 39,
     "metadata": {},
     "output_type": "execute_result"
    }
   ],
   "source": [
    "# 7. Predictions\n",
    "y_pred =grid.predict(X_test)\n",
    "\n",
    "y_pred"
   ]
  },
  {
   "cell_type": "code",
   "execution_count": 40,
   "id": "bf13310f-cf36-4975-9053-3d7ddc4f37af",
   "metadata": {},
   "outputs": [
    {
     "data": {
      "text/plain": [
       "3245     ham\n",
       "944      ham\n",
       "1044    spam\n",
       "2484     ham\n",
       "812     spam\n",
       "        ... \n",
       "4264     ham\n",
       "2439     ham\n",
       "5556     ham\n",
       "4205     ham\n",
       "4293    spam\n",
       "Name: label, Length: 1115, dtype: object"
      ]
     },
     "execution_count": 40,
     "metadata": {},
     "output_type": "execute_result"
    }
   ],
   "source": [
    "y_test"
   ]
  },
  {
   "cell_type": "markdown",
   "id": "1c0313dd-574f-4330-92ba-e58c8c5b8cfd",
   "metadata": {},
   "source": [
    "### Model Evaluation"
   ]
  },
  {
   "cell_type": "code",
   "execution_count": 41,
   "id": "9cb03d9f-2c4d-4228-9918-9795940f1b8c",
   "metadata": {},
   "outputs": [
    {
     "name": "stdout",
     "output_type": "stream",
     "text": [
      "✅ Accuracy: 0.9829596412556054\n",
      "\n",
      "Classification Report:\n",
      "               precision    recall  f1-score   support\n",
      "\n",
      "         ham       0.98      1.00      0.99       965\n",
      "        spam       0.98      0.89      0.93       150\n",
      "\n",
      "    accuracy                           0.98      1115\n",
      "   macro avg       0.98      0.95      0.96      1115\n",
      "weighted avg       0.98      0.98      0.98      1115\n",
      "\n"
     ]
    }
   ],
   "source": [
    "# 8. Evaluation\n",
    "\n",
    "from sklearn.metrics import accuracy_score, classification_report\n",
    "\n",
    "\n",
    "print(\"✅ Accuracy:\", accuracy_score(y_test, y_pred))\n",
    "print(\"\\nClassification Report:\\n\", classification_report(y_test, y_pred))\n"
   ]
  },
  {
   "cell_type": "markdown",
   "id": "403f363a-913b-4bf0-9695-c47d6bed1218",
   "metadata": {},
   "source": [
    "### User input "
   ]
  },
  {
   "cell_type": "code",
   "execution_count": 44,
   "id": "6265a3c0-3be4-4413-a6c3-4ace79196f79",
   "metadata": {},
   "outputs": [
    {
     "name": "stdin",
     "output_type": "stream",
     "text": [
      "Enter a message to check if it's spam or not:  youwon 500k\n"
     ]
    },
    {
     "name": "stdout",
     "output_type": "stream",
     "text": [
      "✅ This message is NOT spam\n"
     ]
    }
   ],
   "source": [
    "# User input\n",
    "user_msg = input(\"Enter a message to check if it's spam or not: \")\n",
    "\n",
    "# preprocess user input\n",
    "clean_input = preprocess_text(user_msg)\n",
    "\n",
    "# transform using SAME vectorizer (⚠️ important)\n",
    "input_bow = cv.transform([clean_input]).toarray()\n",
    "\n",
    "# predict\n",
    "prediction = svm_model.predict(input_bow)[0]\n",
    "\n",
    "# result\n",
    "if prediction == \"spam\":\n",
    "    print(\"🚨 This message is SPAM\")\n",
    "else:\n",
    "    print(\"✅ This message is NOT spam\")"
   ]
  },
  {
   "cell_type": "markdown",
   "id": "2597520b-3462-4e64-900a-ad0341a3097f",
   "metadata": {},
   "source": [
    "### Bar plot "
   ]
  },
  {
   "cell_type": "code",
   "execution_count": 48,
   "id": "9aa3073a-9f6e-4d34-a149-fa0f38f09853",
   "metadata": {},
   "outputs": [
    {
     "data": {
      "image/png": "[encoded data removed]",
      "text/plain": [
       "<Figure size 640x480 with 1 Axes>"
      ]
     },
     "metadata": {},
     "output_type": "display_data"
    }
   ],
   "source": [
    "import matplotlib.pyplot as plt\n",
    "\n",
    "# Class distribution\n",
    "df['label'].value_counts().plot(kind='bar', color=['skyblue','salmon'])\n",
    "plt.title(\"Spam vs Ham Message Count\")\n",
    "plt.xlabel(\"Message Type\")\n",
    "plt.ylabel(\"Count\")\n",
    "plt.show()"
   ]
  },
  {
   "cell_type": "markdown",
   "id": "cf5443ca-af2d-4234-a60e-a762e5d0afa7",
   "metadata": {},
   "source": [
    "### Confusion Matirx"
   ]
  },
  {
   "cell_type": "code",
   "execution_count": 49,
   "id": "6947f735-ee99-48b4-b0d5-43ec5895423d",
   "metadata": {},
   "outputs": [
    {
     "data": {
      "image/png": "[encoded data removed]",
      "text/plain": [
       "<Figure size 640x480 with 2 Axes>"
      ]
     },
     "metadata": {},
     "output_type": "display_data"
    }
   ],
   "source": [
    "from sklearn.metrics import confusion_matrix, ConfusionMatrixDisplay\n",
    "\n",
    "cm = confusion_matrix(y_test, y_pred)\n",
    "disp = ConfusionMatrixDisplay(confusion_matrix=cm, display_labels=grid.classes_)\n",
    "disp.plot(cmap=plt.cm.Blues)\n",
    "plt.title(\"Confusion Matrix\")\n",
    "plt.show()"
   ]
  },
  {
   "cell_type": "markdown",
   "id": "f5f55af6-fafb-4619-889e-fff95e3f5be3",
   "metadata": {},
   "source": [
    "### 3️⃣ Save Model\n"
   ]
  },
  {
   "cell_type": "code",
   "execution_count": 45,
   "id": "8e0d8945-29e0-46ef-aad5-6f63b48ec15d",
   "metadata": {},
   "outputs": [
    {
     "name": "stdout",
     "output_type": "stream",
     "text": [
      "✅ Model saved as 'svm_spam_classifier.pkl'\n"
     ]
    }
   ],
   "source": [
    "import joblib\n",
    "\n",
    "joblib.dump(grid, 'svm_spam_classifier.pkl')\n",
    "print(\"✅ Model saved as 'svm_spam_classifier.pkl'\")\n",
    "\n",
    "# ✅ Optional: Load model in future\n",
    "# loaded_model = joblib.load('svm_spam_classifier.pkl')\n",
    "# loaded_model.predict(new_data)"
   ]
  },
  {
   "cell_type": "code",
   "execution_count": null,
   "id": "b1cb2cda-8e01-4faf-9b59-6f60b40942c3",
   "metadata": {},
   "outputs": [],
   "source": []
  },
  {
   "cell_type": "code",
   "execution_count": null,
   "id": "443d57fc-b02f-499f-879e-f7c41ae12881",
   "metadata": {},
   "outputs": [],
   "source": []
  }
 ],
 "metadata": {
  "kernelspec": {
   "display_name": "Python 3 (ipykernel)",
   "language": "python",
   "name": "python3"
  },
  "language_info": {
   "codemirror_mode": {
    "name": "ipython",
    "version": 3
   },
   "file_extension": ".py",
   "mimetype": "text/x-python",
   "name": "python",
   "nbconvert_exporter": "python",
   "pygments_lexer": "ipython3",
   "version": "3.12.7"
  }
 },
 "nbformat": 4,
 "nbformat_minor": 5
}
